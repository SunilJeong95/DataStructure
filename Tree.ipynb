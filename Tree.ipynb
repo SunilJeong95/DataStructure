{
 "cells": [
  {
   "cell_type": "markdown",
   "metadata": {},
   "source": [
    "# Tree"
   ]
  },
  {
   "cell_type": "code",
   "execution_count": 1,
   "metadata": {},
   "outputs": [],
   "source": [
    "class Node:\n",
    "    def __init__(self, data):\n",
    "        self.data = data\n",
    "        self.left = None\n",
    "        self.right = None\n",
    "\n",
    "class BinaryTree:\n",
    "    def __init__(self, data):\n",
    "        if type(data) != type(None):\n",
    "            self.root = Node(data)\n",
    "    \n",
    "    def insert(self, data, node=None):\n",
    "        \n",
    "        if node == None:\n",
    "            current_node = self.root\n",
    "        else:\n",
    "            current_node = node\n",
    "            \n",
    "        if current_node.data > data:\n",
    "            if current_node.left:\n",
    "                 self.insert(data, current_node.left)\n",
    "            else:\n",
    "                current_node.left = Node(data)\n",
    "        else:\n",
    "            if current_node.right:\n",
    "                 self.insert(data, current_node.right)\n",
    "            else:\n",
    "                current_node.right = Node(data)\n",
    "        \n",
    "        \n",
    "    def test(self):\n",
    "        current_node = self.root\n",
    "        \n",
    "        while current_node.right != None:\n",
    "            print(current_node.data)\n",
    "            current_node = current_node.right\n",
    "            \n",
    "        print(current_node.data)\n",
    "            \n",
    "    def desc(self, node=None):\n",
    "        if node == None:\n",
    "            current_node = self.root\n",
    "        else:\n",
    "            current_node = node\n",
    "            \n",
    "        if current_node == None:\n",
    "            print(\"No data!\")\n",
    "            return\n",
    "        \n",
    "        if current_node.left != None:\n",
    "            self.desc(current_node.left)\n",
    "        \n",
    "        print(current_node.data)\n",
    "        if current_node.right != None:\n",
    "            self.desc(current_node.right)\n",
    "        \n",
    "            \n",
    "    def search(self, data):\n",
    "        current_node = self.root\n",
    "        \n",
    "        while current_node:\n",
    "            if current_node.data == data:\n",
    "                print(\"Find: \", data)\n",
    "                return\n",
    "            elif current_node.data > data:\n",
    "                current_node = current_node.left\n",
    "            else:\n",
    "                current_node = current_node.right\n",
    "        \n",
    "        print(\"No exist \", data)\n",
    "            \n",
    "    def delete(self, data, node=None):\n",
    "        # delete leaf node\n",
    "        searched = False\n",
    "        if node == None:    \n",
    "            current_node = self.root\n",
    "            parent = self.root\n",
    "        \n",
    "        #find existing data\n",
    "        while current_node:\n",
    "            if current_node.data == data:\n",
    "                searched = True\n",
    "                break\n",
    "            elif current_node.data > data:\n",
    "                parent = current_node\n",
    "                current_node = current_node.left\n",
    "            else:\n",
    "                parent = current_node\n",
    "                current_node = current_node.right\n",
    "                \n",
    "        if searched:\n",
    "            #case1: target node is leaf node\n",
    "            if current_node.left == None and current_node.right == None:\n",
    "                if current_node == parent:\n",
    "                    self.root = None\n",
    "                else:\n",
    "                    if data < parent.data:\n",
    "                        parent.left = None\n",
    "                    else:\n",
    "                        parent.right = None\n",
    "                    \n",
    "            #case2: target node has only one children (right)\n",
    "            elif current_node.left == None and current_node.right != None:\n",
    "                if current_node == parent:\n",
    "                    self.root = current_node.right\n",
    "                else:\n",
    "                    if data < parent.data:\n",
    "                        parent.left = current_node.right\n",
    "                    else:\n",
    "                        parent.right = current_node.right\n",
    "                    del current_node\n",
    "                \n",
    "            #case2: left\n",
    "            elif current_node.left != None and current_node.right == None:\n",
    "                if current_node == parent:\n",
    "                    self.root = current_node.right\n",
    "                else:\n",
    "                    if data < parent.data:\n",
    "                        parent.left = current_node.left\n",
    "                    else:\n",
    "                        parent.right = current_node.left\n",
    "                    del current_node\n",
    "                \n",
    "            #case3: target node has both childern\n",
    "            elif current_node.left != None and current_node.right != None:\n",
    "                if current_node == parent:\n",
    "                    change_node = current_node.right\n",
    "                    change_node_parent = current_node.right\n",
    "                    while change_node.left != None:\n",
    "                            change_node_parent = change_node\n",
    "                            change_node = change_node.left\n",
    "                    if change_node.right != None:\n",
    "                            change_node_parent.left = change_node.right\n",
    "                    else:\n",
    "                            change_node_parent.left = None\n",
    "                    \n",
    "                    self.root = change_node\n",
    "                    change_node.left = current_node.left\n",
    "                    \n",
    "                    if change_node == current_node.right:\n",
    "                        change_node.right = None\n",
    "                    else:\n",
    "                        change_node.right = current_node.right\n",
    "                        \n",
    "                else:\n",
    "                    if data < parent.data:\n",
    "                        change_node = current_node.right\n",
    "                        change_node_parent = current_node.right\n",
    "                        while change_node.left != None:\n",
    "                            change_node_parent = change_node\n",
    "                            change_node = change_node.left\n",
    "                    #case3: smallest value node has no children(must right)\n",
    "                        if change_node.right != None:\n",
    "                            change_node_parent.left = change_node.right\n",
    "                        else:\n",
    "                            change_node_parent.left = None\n",
    "                    \n",
    "                        parent.left = change_node\n",
    "                        change_node.left = current_node.left\n",
    "                        if change_node == current_node.right:\n",
    "                            change_node.right = None\n",
    "                        else:\n",
    "                            change_node.right = current_node.right\n",
    "                        del current_node\n",
    "                    else:\n",
    "                        change_node = current_node.right\n",
    "                        change_node_parent = current_node.right\n",
    "                        while change_node.left != None:\n",
    "                            change_node_parent = change_node\n",
    "                            change_node = change_node.left\n",
    "                    #case3: smallest value node has no children(must right)\n",
    "                        if change_node.right != None:\n",
    "                            change_node_parent.left = change_node.right\n",
    "                        else:\n",
    "                            change_node_parent.left = None\n",
    "                    \n",
    "                        parent.right = change_node\n",
    "                        change_node.left = current_node.left\n",
    "                        if change_node == current_node.right:\n",
    "                            change_node.right = None\n",
    "                        else:\n",
    "                            change_node.right = current_node.right\n",
    "                        del current_node\n",
    "     "
   ]
  },
  {
   "cell_type": "code",
   "execution_count": 2,
   "metadata": {},
   "outputs": [],
   "source": [
    "tree = BinaryTree(10)\n",
    "\n",
    "tree.insert(7)\n",
    "tree.insert(15)\n",
    "tree.insert(6)\n",
    "tree.insert(8)\n",
    "tree.insert(13)\n",
    "tree.insert(18)\n",
    "tree.insert(11)\n",
    "tree.insert(12)\n",
    "tree.insert(16)\n",
    "tree.insert(19)\n",
    "tree.insert(17)"
   ]
  },
  {
   "cell_type": "markdown",
   "metadata": {},
   "source": [
    "<div>\n",
    "<img src=\"./images/tree1.png\" width=\"500\"/>\n",
    "</div>"
   ]
  },
  {
   "cell_type": "code",
   "execution_count": 3,
   "metadata": {},
   "outputs": [
    {
     "name": "stdout",
     "output_type": "stream",
     "text": [
      "6\n",
      "7\n",
      "8\n",
      "10\n",
      "11\n",
      "12\n",
      "13\n",
      "15\n",
      "16\n",
      "17\n",
      "18\n",
      "19\n"
     ]
    }
   ],
   "source": [
    "tree.desc()"
   ]
  },
  {
   "cell_type": "code",
   "execution_count": 4,
   "metadata": {},
   "outputs": [],
   "source": [
    "tree.delete(18)"
   ]
  },
  {
   "cell_type": "markdown",
   "metadata": {},
   "source": [
    "<div>\n",
    "<img src=\"./images/delete18.png\" width=\"500\"/>\n",
    "</div>"
   ]
  },
  {
   "cell_type": "code",
   "execution_count": 5,
   "metadata": {},
   "outputs": [
    {
     "name": "stdout",
     "output_type": "stream",
     "text": [
      "6\n",
      "7\n",
      "8\n",
      "10\n",
      "11\n",
      "12\n",
      "13\n",
      "15\n",
      "16\n",
      "17\n",
      "19\n"
     ]
    }
   ],
   "source": [
    "tree.desc()"
   ]
  },
  {
   "cell_type": "code",
   "execution_count": 6,
   "metadata": {},
   "outputs": [
    {
     "name": "stdout",
     "output_type": "stream",
     "text": [
      "No exist  4\n"
     ]
    }
   ],
   "source": [
    "tree.search(4)"
   ]
  },
  {
   "cell_type": "code",
   "execution_count": 7,
   "metadata": {},
   "outputs": [
    {
     "name": "stdout",
     "output_type": "stream",
     "text": [
      "Find:  10\n"
     ]
    }
   ],
   "source": [
    "tree.search(10)"
   ]
  }
 ],
 "metadata": {
  "kernelspec": {
   "display_name": "Pytorch",
   "language": "python",
   "name": "pytorch"
  },
  "language_info": {
   "codemirror_mode": {
    "name": "ipython",
    "version": 3
   },
   "file_extension": ".py",
   "mimetype": "text/x-python",
   "name": "python",
   "nbconvert_exporter": "python",
   "pygments_lexer": "ipython3",
   "version": "3.7.9"
  }
 },
 "nbformat": 4,
 "nbformat_minor": 2
}
