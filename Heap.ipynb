{
 "cells": [
  {
   "cell_type": "markdown",
   "id": "minute-apple",
   "metadata": {},
   "source": [
    "# MaxHeap\n",
    "    - Max/Min Heap"
   ]
  },
  {
   "cell_type": "code",
   "execution_count": 1,
   "id": "baking-offense",
   "metadata": {},
   "outputs": [],
   "source": [
    "class MaxHeap: #Max Heap\n",
    "    def __init__(self, data):\n",
    "        self.__heap_array = list()\n",
    "        self.__heap_array.append(None)\n",
    "        self.__heap_array.append(data)\n",
    "    \n",
    "    def __get_left(self, i):\n",
    "        return i * 2\n",
    "    \n",
    "    def __get_right(self, i):\n",
    "        return i*2 + 1\n",
    "    \n",
    "    def __swap(self, i, j):\n",
    "        self.__heap_array[i], self.__heap_array[j] = self.__heap_array[j], self.__heap_array[i]\n",
    "    \n",
    "    def __max_heapify(self, i):\n",
    "        left = self.__get_left(i)\n",
    "        right = self.__get_right(i)\n",
    "        heap_size = len(self.__heap_array) - 1\n",
    "        \n",
    "        \n",
    "        #check left side\n",
    "        if left <= heap_size and self.__heap_array[left] > self.__heap_array[i] :\n",
    "            largest = left\n",
    "        else:\n",
    "            largest = i\n",
    "        \n",
    "        #check right side\n",
    "        if right <= heap_size and self.__heap_array[right] > self.__heap_array[largest] :\n",
    "            largest = right\n",
    "        \n",
    "        if i != largest :\n",
    "            self.__swap(i, largest)\n",
    "            self.__max_heapify(largest)\n",
    "        \n",
    "    \n",
    "    def insert(self, data):\n",
    "        self.__heap_array.append(data)\n",
    "        \n",
    "        insert_idx = len(self.__heap_array) - 1\n",
    "        \n",
    "        for i in range(insert_idx//2, 0, -1):\n",
    "            self.__max_heapify(i)\n",
    "    \n",
    "    def pop(self):\n",
    "        heap_size = len(self.__heap_array) - 1\n",
    "        if heap_size <= 0:\n",
    "            print(\"No data!\")\n",
    "            return\n",
    "        \n",
    "        self.__swap(1, heap_size)\n",
    "        value = self.__heap_array.pop()\n",
    "        self.__max_heapify(1)\n",
    "        \n",
    "        return value\n",
    "        \n",
    "    \n",
    "    def desc(self):\n",
    "        print(self.__heap_array[1:])"
   ]
  },
  {
   "cell_type": "code",
   "execution_count": 2,
   "id": "boolean-neighbor",
   "metadata": {},
   "outputs": [
    {
     "name": "stdout",
     "output_type": "stream",
     "text": [
      "[15, 10, 8, 5, 4]\n"
     ]
    }
   ],
   "source": [
    "heap = MaxHeap(15)\n",
    "heap.insert(10)\n",
    "heap.insert(8)\n",
    "heap.insert(5)\n",
    "heap.insert(4)\n",
    "heap.insert(20)\n",
    "heap.pop()\n",
    "heap.desc()"
   ]
  }
 ],
 "metadata": {
  "kernelspec": {
   "display_name": "Pytorch",
   "language": "python",
   "name": "pytorch"
  },
  "language_info": {
   "codemirror_mode": {
    "name": "ipython",
    "version": 3
   },
   "file_extension": ".py",
   "mimetype": "text/x-python",
   "name": "python",
   "nbconvert_exporter": "python",
   "pygments_lexer": "ipython3",
   "version": "3.7.9"
  }
 },
 "nbformat": 4,
 "nbformat_minor": 5
}
