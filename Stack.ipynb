{
 "cells": [
  {
   "cell_type": "markdown",
   "id": "preceding-married",
   "metadata": {},
   "source": [
    "# Stack (스택)\n",
    "\n",
    " - LIFO (Last In First Out)"
   ]
  },
  {
   "cell_type": "code",
   "execution_count": 8,
   "id": "environmental-prompt",
   "metadata": {},
   "outputs": [],
   "source": [
    "class Stack():\n",
    "    def __init__(self):\n",
    "        self.stack_list = list()\n",
    "    \n",
    "    def push(self, data):\n",
    "        self.stack_list.append(data)\n",
    "    \n",
    "    def pop(self):\n",
    "        if len(self.stack_list) == 0:\n",
    "            print(\"No data. please push data\")\n",
    "            return\n",
    "        \n",
    "        data = self.stack_list[-1]\n",
    "        del self.stack_list[-1]\n",
    "        \n",
    "        return data\n",
    "    \n",
    "    def desc(self):\n",
    "        for i in self.stack_list:\n",
    "            print(i)"
   ]
  },
  {
   "cell_type": "code",
   "execution_count": 9,
   "id": "continuing-omaha",
   "metadata": {},
   "outputs": [
    {
     "name": "stdout",
     "output_type": "stream",
     "text": [
      "10\n",
      "20\n"
     ]
    }
   ],
   "source": [
    "stack = Stack()\n",
    "stack.push(10)\n",
    "stack.push(20)\n",
    "stack.desc()\n",
    "\n"
   ]
  },
  {
   "cell_type": "code",
   "execution_count": 11,
   "id": "exclusive-anthropology",
   "metadata": {},
   "outputs": [
    {
     "name": "stdout",
     "output_type": "stream",
     "text": [
      "No data. please push data\n",
      "No data. please push data\n"
     ]
    }
   ],
   "source": [
    "stack.pop()\n",
    "stack.pop()\n",
    "stack.pop()\n",
    "stack.desc()"
   ]
  },
  {
   "cell_type": "code",
   "execution_count": 11,
   "id": "residential-corner",
   "metadata": {},
   "outputs": [],
   "source": [
    "stack_list = []\n",
    "\n",
    "def push(data):\n",
    "    stack_list.append(data)\n",
    "\n",
    "def pop():\n",
    "    data = stack_list[-1]\n",
    "    del stack_list[-1]\n",
    "    \n",
    "    return data"
   ]
  },
  {
   "cell_type": "code",
   "execution_count": 12,
   "id": "played-parliament",
   "metadata": {},
   "outputs": [
    {
     "name": "stdout",
     "output_type": "stream",
     "text": [
      "[0, 1, 2, 3, 4, 5, 6, 7, 8, 9]\n",
      "10\n"
     ]
    }
   ],
   "source": [
    "for i in range(10):\n",
    "    push(i)\n",
    "    \n",
    "print(stack_list)\n",
    "print(len(stack_list))"
   ]
  },
  {
   "cell_type": "code",
   "execution_count": 13,
   "id": "postal-rebecca",
   "metadata": {},
   "outputs": [
    {
     "name": "stdout",
     "output_type": "stream",
     "text": [
      "9\n",
      "8\n"
     ]
    }
   ],
   "source": [
    "print(pop())\n",
    "print(pop())"
   ]
  },
  {
   "cell_type": "code",
   "execution_count": 14,
   "id": "superb-hollow",
   "metadata": {},
   "outputs": [
    {
     "name": "stdout",
     "output_type": "stream",
     "text": [
      "[0, 1, 2, 3, 4, 5, 6, 7]\n",
      "8\n"
     ]
    }
   ],
   "source": [
    "print(stack_list)\n",
    "print(len(stack_list))"
   ]
  }
 ],
 "metadata": {
  "kernelspec": {
   "display_name": "Pytorch",
   "language": "python",
   "name": "pytorch"
  },
  "language_info": {
   "codemirror_mode": {
    "name": "ipython",
    "version": 3
   },
   "file_extension": ".py",
   "mimetype": "text/x-python",
   "name": "python",
   "nbconvert_exporter": "python",
   "pygments_lexer": "ipython3",
   "version": "3.7.9"
  }
 },
 "nbformat": 4,
 "nbformat_minor": 5
}
