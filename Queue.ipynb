{
 "cells": [
  {
   "cell_type": "markdown",
   "id": "placed-elephant",
   "metadata": {},
   "source": [
    "# Queue (큐)\n",
    "\n",
    "- FIFO (First Input First Out)\n",
    "- LIFO (Last Input First Out)\n",
    "- Priority Queue"
   ]
  },
  {
   "cell_type": "code",
   "execution_count": 7,
   "id": "decreased-buying",
   "metadata": {},
   "outputs": [],
   "source": [
    "#FIFO using library\n",
    "from queue import Queue\n",
    "\n",
    "q = Queue()\n",
    "\n",
    "q.put(\"first input\")\n",
    "q.put(\"second input\")"
   ]
  },
  {
   "cell_type": "code",
   "execution_count": 8,
   "id": "bulgarian-processing",
   "metadata": {},
   "outputs": [
    {
     "name": "stdout",
     "output_type": "stream",
     "text": [
      "2\n"
     ]
    }
   ],
   "source": [
    "print(q.qsize())"
   ]
  },
  {
   "cell_type": "code",
   "execution_count": 9,
   "id": "continuing-arkansas",
   "metadata": {},
   "outputs": [
    {
     "name": "stdout",
     "output_type": "stream",
     "text": [
      "first input\n",
      "1\n"
     ]
    }
   ],
   "source": [
    "output = q.get()\n",
    "print(output)\n",
    "print(q.qsize())"
   ]
  },
  {
   "cell_type": "code",
   "execution_count": 10,
   "id": "noble-judge",
   "metadata": {},
   "outputs": [],
   "source": [
    "#Priority Queue(우선순위 큐) using library\n",
    "\n",
    "from queue import PriorityQueue\n",
    "\n",
    "data_queue = PriorityQueue()\n",
    "data_queue.put((10, 'Seonil'))\n",
    "data_queue.put((5, 100))\n",
    "data_queue.put((13, 'Health'))"
   ]
  },
  {
   "cell_type": "code",
   "execution_count": 11,
   "id": "south-eugene",
   "metadata": {},
   "outputs": [
    {
     "name": "stdout",
     "output_type": "stream",
     "text": [
      "3\n"
     ]
    }
   ],
   "source": [
    "print(data_queue.qsize())"
   ]
  },
  {
   "cell_type": "code",
   "execution_count": 12,
   "id": "unlimited-congo",
   "metadata": {},
   "outputs": [
    {
     "data": {
      "text/plain": [
       "(5, 100)"
      ]
     },
     "execution_count": 12,
     "metadata": {},
     "output_type": "execute_result"
    }
   ],
   "source": [
    "data_queue.get()"
   ]
  },
  {
   "cell_type": "code",
   "execution_count": 13,
   "id": "biological-tower",
   "metadata": {},
   "outputs": [],
   "source": [
    "#implementation queue\n",
    "class Queue():\n",
    "    def __init__(self):\n",
    "        self.queue_list = list()\n",
    "    \n",
    "    def enqueue(self, data):\n",
    "        self.queue_list.append(data)\n",
    "    \n",
    "    def dequeue(self):\n",
    "        data = self.queue_list[0]\n",
    "        del self.queue_list[0]\n",
    "        return data\n",
    "\n",
    "    def desc(self):\n",
    "        for i in self.queue_list:\n",
    "            print(i)"
   ]
  },
  {
   "cell_type": "code",
   "execution_count": 14,
   "id": "round-prayer",
   "metadata": {},
   "outputs": [
    {
     "name": "stdout",
     "output_type": "stream",
     "text": [
      "0\n",
      "1\n",
      "2\n",
      "3\n",
      "4\n",
      "5\n",
      "6\n",
      "7\n",
      "8\n",
      "9\n"
     ]
    }
   ],
   "source": [
    "queue = Queue()\n",
    "for i in range(10):\n",
    "    queue.enqueue(i)\n",
    "    \n",
    "queue.desc()"
   ]
  },
  {
   "cell_type": "code",
   "execution_count": 15,
   "id": "consecutive-remark",
   "metadata": {},
   "outputs": [
    {
     "name": "stdout",
     "output_type": "stream",
     "text": [
      "1\n",
      "2\n",
      "3\n",
      "4\n",
      "5\n",
      "6\n",
      "7\n",
      "8\n",
      "9\n"
     ]
    }
   ],
   "source": [
    "queue.dequeue()\n",
    "queue.desc()"
   ]
  }
 ],
 "metadata": {
  "kernelspec": {
   "display_name": "Pytorch",
   "language": "python",
   "name": "pytorch"
  },
  "language_info": {
   "codemirror_mode": {
    "name": "ipython",
    "version": 3
   },
   "file_extension": ".py",
   "mimetype": "text/x-python",
   "name": "python",
   "nbconvert_exporter": "python",
   "pygments_lexer": "ipython3",
   "version": "3.7.9"
  }
 },
 "nbformat": 4,
 "nbformat_minor": 5
}
