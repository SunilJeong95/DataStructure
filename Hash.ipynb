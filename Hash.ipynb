{
 "cells": [
  {
   "cell_type": "markdown",
   "metadata": {},
   "source": [
    "# Hash (해쉬)"
   ]
  },
  {
   "cell_type": "code",
   "execution_count": 1,
   "metadata": {},
   "outputs": [],
   "source": [
    "class Hash():\n",
    "    def __init__(self, size=100):\n",
    "        self.size = size\n",
    "        self.hash_table = [0 for _ in range(self.size)]\n",
    "        \n",
    "    def __get_key(self, value):\n",
    "        return hash(value)\n",
    "    \n",
    "    def __hash_function(self, key):\n",
    "        return key % self.size\n",
    "    \n",
    "    def save(self, key, value):\n",
    "        hash_addr = self.__hash_function(self.__get_key(key))\n",
    "        self.hash_table[hash_addr] = value\n",
    "        \n",
    "    def read(self, key):\n",
    "        hash_addr = self.__hash_function(self.__get_key(key))\n",
    "        if self.hash_table[hash_addr] == 0:\n",
    "            print(\"{}: No data!\".format(key))\n",
    "            return \n",
    "        \n",
    "        return self.hash_table[hash_addr]"
   ]
  },
  {
   "cell_type": "code",
   "execution_count": 2,
   "metadata": {},
   "outputs": [],
   "source": [
    "hashing = Hash()\n",
    "\n",
    "hashing.save(\"Dave\", \"01022239781\")\n",
    "hashing.save(\"Anna\", \"01038421929\")"
   ]
  },
  {
   "cell_type": "code",
   "execution_count": 3,
   "metadata": {},
   "outputs": [
    {
     "name": "stdout",
     "output_type": "stream",
     "text": [
      "01022239781\n",
      "Ann: No data!\n",
      "None\n"
     ]
    }
   ],
   "source": [
    "print(hashing.read(\"Dave\"))\n",
    "print(hashing.read(\"Ann\"))"
   ]
  },
  {
   "cell_type": "markdown",
   "metadata": {},
   "source": [
    "# Collision\n",
    "    - To solve collision, there are 2 typical solution (Chaining, Linear Probing)"
   ]
  },
  {
   "cell_type": "code",
   "execution_count": 4,
   "metadata": {},
   "outputs": [],
   "source": [
    "# chaining\n",
    "\n",
    "class Hash_Ch():\n",
    "    \n",
    "    def __init__(self, size=100):\n",
    "        self.size = size\n",
    "        self.hash_table = [0 for _ in range(self.size)]\n",
    "\n",
    "    def __get_key(self, data):\n",
    "        return hash(data)\n",
    "\n",
    "    def __hash_function(self, key):\n",
    "        return key%self.size\n",
    "\n",
    "    def save(self, key, value):\n",
    "        index_key = self.__get_key(key)\n",
    "        hash_addr = self.__hash_function(index_key)\n",
    "    \n",
    "        index_key = self.__get_key(key)\n",
    "        hash_addr = self.__hash_function(index_key)\n",
    "        if self.hash_table[hash_addr] != 0: # already existing data\n",
    "            for index in range(len(self.hash_table[hash_addr])):\n",
    "                if self.hash_table[hash_addr][index][0] == index_key: #overwrite\n",
    "                    self.hash_table[hash_addr][index][1] = value\n",
    "                    print(\"Data update!\")\n",
    "                    return\n",
    "            print(\"Collision!\")\n",
    "            self.hash_table[hash_addr].append([index_key, value])\n",
    "        else:\n",
    "            self.hash_table[hash_addr] = [[index_key, value]]\n",
    "\n",
    "    def read(self, key):\n",
    "        index_key = self.__get_key(key)\n",
    "        hash_addr = self.__hash_function(index_key)\n",
    "    \n",
    "        for index in range(len(self.hash_table[hash_addr])):\n",
    "            if self.hash_table[hash_addr][index][0] == index_key:\n",
    "                return self.hash_table[hash_addr][index][1] \n",
    "        \n",
    "    def desc(self):\n",
    "        print(self.hash_table)"
   ]
  },
  {
   "cell_type": "code",
   "execution_count": 5,
   "metadata": {},
   "outputs": [
    {
     "name": "stdout",
     "output_type": "stream",
     "text": [
      "Data update!\n"
     ]
    }
   ],
   "source": [
    "hashing = Hash_Ch(3)\n",
    "\n",
    "hashing.save(\"Dave\", \"1234\")\n",
    "hashing.save(\"Dave\", \"5678\")\n",
    "hashing.save(\"Daniel\", \"7777\")\n",
    "hashing.save(\"Ann\", \"0000\")"
   ]
  },
  {
   "cell_type": "code",
   "execution_count": 6,
   "metadata": {},
   "outputs": [
    {
     "name": "stdout",
     "output_type": "stream",
     "text": [
      "[[[-9128778605961942870, '5678']], [[685901691423134569, '7777']], [[457277424963564539, '0000']]]\n"
     ]
    }
   ],
   "source": [
    "hashing.desc()"
   ]
  },
  {
   "cell_type": "code",
   "execution_count": 7,
   "metadata": {},
   "outputs": [],
   "source": [
    "# Linear Probing\n",
    "\n",
    "class Hash_LP():\n",
    "    \n",
    "    def __init__(self, size=100):\n",
    "        self.size = size\n",
    "        self.hash_table = [0 for _ in range(self.size)]\n",
    "\n",
    "    def __get_key(self, data):\n",
    "        return hash(data)\n",
    "\n",
    "    def __hash_function(self, key):\n",
    "        return key%self.size\n",
    "\n",
    "    def save(self, key, value):\n",
    "        index_key = self.__get_key(key)\n",
    "        hash_addr = self.__hash_function(index_key)\n",
    "    \n",
    "        if self.hash_table[hash_addr] != 0: \n",
    "            for index in range(hash_addr,len(self.hash_table)):\n",
    "                if self.hash_table[index] == 0: #empty space\n",
    "                    self.hash_table[index] = [index_key, value]\n",
    "                    return\n",
    "                \n",
    "                elif self.hash_table[index][0] == index_key: #overwriting value\n",
    "                        self.hash_table[index][1] = value\n",
    "                        return\n",
    "              \n",
    "            for i in range(hash_addr):\n",
    "                if self.hash_table[i] == 0: #empty space\n",
    "                    self.hash_table[i] = [index_key, value]\n",
    "                    return\n",
    "                    \n",
    "            print(\"No space!\")\n",
    "            \n",
    "        else:\n",
    "            #print(len(self.hash_table), value)\n",
    "            self.hash_table[hash_addr] = [index_key, value]\n",
    "\n",
    "    def read(self, key):\n",
    "        index_key = self.__get_key(key)\n",
    "        hash_addr = self.__hash_function(index_key)\n",
    "    \n",
    "        if self.hash_table[hash_addr] != 0:\n",
    "            for index in range(hash_addr, len(self.hash_table)):\n",
    "                if self.hash_table[index][0] == index_key:\n",
    "                    return self.hash_table[index][1]\n",
    "        else:\n",
    "            print(\"{}: No data!\".format(key))\n",
    "            return \n",
    "        \n",
    "    def desc(self):\n",
    "        print(self.hash_table)"
   ]
  },
  {
   "cell_type": "code",
   "execution_count": 8,
   "metadata": {},
   "outputs": [
    {
     "name": "stdout",
     "output_type": "stream",
     "text": [
      "[[-9128778605961942870, '5678'], 0, [457277424963564539, '0000']]\n"
     ]
    }
   ],
   "source": [
    "hashing = Hash_LP(3)\n",
    "hashing.save(\"Dave\", \"1234\")\n",
    "hashing.save(\"Dave\", \"5678\")\n",
    "hashing.save(\"Ann\", \"0000\")\n",
    "hashing.desc()"
   ]
  },
  {
   "cell_type": "code",
   "execution_count": 9,
   "metadata": {},
   "outputs": [
    {
     "name": "stdout",
     "output_type": "stream",
     "text": [
      "[[-9128778605961942870, '1234'], [685901691423134569, '5678'], [457277424963564539, '0000']]\n"
     ]
    }
   ],
   "source": [
    "hashing = Hash_LP(3)\n",
    "hashing.save(\"Dave\", \"1234\")\n",
    "hashing.save(\"Daniel\", \"5678\")\n",
    "hashing.save(\"Ann\", \"0000\")\n",
    "hashing.desc()"
   ]
  }
 ],
 "metadata": {
  "kernelspec": {
   "display_name": "Pytorch",
   "language": "python",
   "name": "pytorch"
  },
  "language_info": {
   "codemirror_mode": {
    "name": "ipython",
    "version": 3
   },
   "file_extension": ".py",
   "mimetype": "text/x-python",
   "name": "python",
   "nbconvert_exporter": "python",
   "pygments_lexer": "ipython3",
   "version": "3.7.9"
  }
 },
 "nbformat": 4,
 "nbformat_minor": 2
}
