{
 "cells": [
  {
   "cell_type": "markdown",
   "id": "correct-invasion",
   "metadata": {},
   "source": [
    "# Array"
   ]
  },
  {
   "cell_type": "code",
   "execution_count": 8,
   "id": "spanish-looking",
   "metadata": {},
   "outputs": [
    {
     "name": "stdout",
     "output_type": "stream",
     "text": [
      "This 1\n",
      "is 2\n",
      "initialization 3\n",
      "initialization 4\n",
      "initialization 5\n",
      "initialization 6\n",
      "initialization 7\n"
     ]
    }
   ],
   "source": [
    "dataset = ['This', 'is', 'Green', 'Yello', 'initialization']\n",
    "\n",
    "#How many 'i' is in dataset?\n",
    "count = 0\n",
    "\n",
    "for data in dataset:\n",
    "    for index in range(len(data)):\n",
    "        if data[index] == 'i':\n",
    "            count += 1\n",
    "            print(data, count)"
   ]
  }
 ],
 "metadata": {
  "kernelspec": {
   "display_name": "Pytorch",
   "language": "python",
   "name": "pytorch"
  },
  "language_info": {
   "codemirror_mode": {
    "name": "ipython",
    "version": 3
   },
   "file_extension": ".py",
   "mimetype": "text/x-python",
   "name": "python",
   "nbconvert_exporter": "python",
   "pygments_lexer": "ipython3",
   "version": "3.7.9"
  }
 },
 "nbformat": 4,
 "nbformat_minor": 5
}
